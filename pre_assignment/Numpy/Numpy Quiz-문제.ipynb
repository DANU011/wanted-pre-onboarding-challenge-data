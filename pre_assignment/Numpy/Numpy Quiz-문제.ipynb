{
  "cells": [
    {
      "cell_type": "markdown",
      "metadata": {
        "id": "view-in-github",
        "colab_type": "text"
      },
      "source": [
        "<a href=\"https://colab.research.google.com/github/DANU011/wanted-pre-onboarding-challenge-data/blob/main/pre_assignment/Numpy/Numpy%20Quiz-%EB%AC%B8%EC%A0%9C.ipynb\" target=\"_parent\"><img src=\"https://colab.research.google.com/assets/colab-badge.svg\" alt=\"Open In Colab\"/></a>"
      ]
    },
    {
      "cell_type": "code",
      "execution_count": 2,
      "id": "7d34f957",
      "metadata": {
        "id": "7d34f957"
      },
      "outputs": [],
      "source": [
        "# 필요한 라이브러리를 불러옵니다.\n",
        "import numpy as np"
      ]
    },
    {
      "cell_type": "markdown",
      "id": "e35027db",
      "metadata": {
        "id": "e35027db"
      },
      "source": [
        "### 1. 값이 10~49인 numpy array를 만드세요"
      ]
    },
    {
      "cell_type": "code",
      "execution_count": 3,
      "id": "186a443c",
      "metadata": {
        "id": "186a443c",
        "outputId": "85fca396-e70b-442e-f13e-c31673043da2",
        "colab": {
          "base_uri": "https://localhost:8080/"
        }
      },
      "outputs": [
        {
          "output_type": "stream",
          "name": "stdout",
          "text": [
            "[10 11 12 13 14 15 16 17 18 19 20 21 22 23 24 25 26 27 28 29 30 31 32 33\n",
            " 34 35 36 37 38 39 40 41 42 43 44 45 46 47 48 49]\n"
          ]
        }
      ],
      "source": [
        "z = np.arange(10, 49 + 1, 1)\n",
        "print(z)"
      ]
    },
    {
      "cell_type": "markdown",
      "id": "7fe92102",
      "metadata": {
        "id": "7fe92102"
      },
      "source": [
        "### 2. z를 반전하세요."
      ]
    },
    {
      "cell_type": "code",
      "execution_count": 4,
      "id": "f78638fa",
      "metadata": {
        "id": "f78638fa",
        "outputId": "7f86221c-93dd-4f03-d732-c66bdfb1c118",
        "colab": {
          "base_uri": "https://localhost:8080/"
        }
      },
      "outputs": [
        {
          "output_type": "stream",
          "name": "stdout",
          "text": [
            "[49 48 47 46 45 44 43 42 41 40 39 38 37 36 35 34 33 32 31 30 29 28 27 26\n",
            " 25 24 23 22 21 20 19 18 17 16 15 14 13 12 11 10]\n"
          ]
        }
      ],
      "source": [
        "z = np.flip(z)\n",
        "print(z)"
      ]
    },
    {
      "cell_type": "markdown",
      "id": "a04b347c",
      "metadata": {
        "id": "a04b347c"
      },
      "source": [
        "### 3. 반전시킨 z 매트릭스를 10 x 4 매트릭스로 바꾸세요."
      ]
    },
    {
      "cell_type": "code",
      "execution_count": 5,
      "id": "fcf79ba9",
      "metadata": {
        "id": "fcf79ba9",
        "outputId": "8af67ac7-22ce-465d-d3d2-71f9187b544a",
        "colab": {
          "base_uri": "https://localhost:8080/"
        }
      },
      "outputs": [
        {
          "output_type": "stream",
          "name": "stdout",
          "text": [
            "[[49 48 47 46]\n",
            " [45 44 43 42]\n",
            " [41 40 39 38]\n",
            " [37 36 35 34]\n",
            " [33 32 31 30]\n",
            " [29 28 27 26]\n",
            " [25 24 23 22]\n",
            " [21 20 19 18]\n",
            " [17 16 15 14]\n",
            " [13 12 11 10]]\n"
          ]
        }
      ],
      "source": [
        "z = z.reshape((10, 4))\n",
        "print(z)"
      ]
    },
    {
      "cell_type": "markdown",
      "id": "a8fb1466",
      "metadata": {
        "id": "a8fb1466"
      },
      "source": [
        "### 4. x에서 0이 아닌 요소의 색인을 찾아보세요."
      ]
    },
    {
      "cell_type": "code",
      "execution_count": 25,
      "id": "0b0944c7",
      "metadata": {
        "id": "0b0944c7",
        "outputId": "5e887362-b054-4cb4-9c09-08a4c2fa2412",
        "colab": {
          "base_uri": "https://localhost:8080/"
        }
      },
      "outputs": [
        {
          "output_type": "stream",
          "name": "stdout",
          "text": [
            "(array([0, 1, 2, 4, 6]),)\n"
          ]
        }
      ],
      "source": [
        "x = np.array([5, 6, 8, 0, 1, 0, 7])\n",
        "nz_idx = np.nonzero(x)\n",
        "print(nz_idx)"
      ]
    },
    {
      "cell_type": "markdown",
      "id": "fb98a12e",
      "metadata": {
        "id": "fb98a12e"
      },
      "source": [
        "### nan 값 이해하기\n",
        "\n"
      ]
    },
    {
      "cell_type": "code",
      "execution_count": 11,
      "id": "7d12b519",
      "metadata": {
        "colab": {
          "base_uri": "https://localhost:8080/"
        },
        "id": "7d12b519",
        "outputId": "219c7dd9-9537-4e82-af4f-c84ce1385ade"
      },
      "outputs": [
        {
          "output_type": "stream",
          "name": "stdout",
          "text": [
            "False\n",
            "True\n",
            "False\n",
            "True\n"
          ]
        }
      ],
      "source": [
        "print(np.nan == np.nan) # False - NaN은 다른 NaN과 같지 않다\n",
        "print(np.isnan(np.nan))\n",
        "\n",
        "import math\n",
        "print(0.3 == 3 * 0.1) # False - 부동 소수점 산술에서 0.1을 정확하게 표현하기 어려움\n",
        "print(math.isclose(0.1 + 0.2, 0.3)) # 근사치 비교로 수행"
      ]
    },
    {
      "cell_type": "markdown",
      "id": "87f765ae",
      "metadata": {
        "id": "87f765ae"
      },
      "source": [
        "### 5. 12 x 12 매트릭스를 만들어 바둑판 패턴으로 0과 1을 채우세요"
      ]
    },
    {
      "cell_type": "code",
      "execution_count": 14,
      "id": "c5dade12",
      "metadata": {
        "colab": {
          "base_uri": "https://localhost:8080/"
        },
        "id": "c5dade12",
        "outputId": "1f5461cf-2a8d-4322-f8a7-f91fbf8d47c5"
      },
      "outputs": [
        {
          "output_type": "stream",
          "name": "stdout",
          "text": [
            "[[0. 0. 0. 0. 0. 0. 0. 0. 0. 0. 0. 0.]\n",
            " [0. 0. 0. 0. 0. 0. 0. 0. 0. 0. 0. 0.]\n",
            " [0. 0. 0. 0. 0. 0. 0. 0. 0. 0. 0. 0.]\n",
            " [0. 0. 0. 0. 0. 0. 0. 0. 0. 0. 0. 0.]\n",
            " [0. 0. 0. 0. 0. 0. 0. 0. 0. 0. 0. 0.]\n",
            " [0. 0. 0. 0. 0. 0. 0. 0. 0. 0. 0. 0.]\n",
            " [0. 0. 0. 0. 0. 0. 0. 0. 0. 0. 0. 0.]\n",
            " [0. 0. 0. 0. 0. 0. 0. 0. 0. 0. 0. 0.]\n",
            " [0. 0. 0. 0. 0. 0. 0. 0. 0. 0. 0. 0.]\n",
            " [0. 0. 0. 0. 0. 0. 0. 0. 0. 0. 0. 0.]\n",
            " [0. 0. 0. 0. 0. 0. 0. 0. 0. 0. 0. 0.]\n",
            " [0. 0. 0. 0. 0. 0. 0. 0. 0. 0. 0. 0.]]\n",
            "\n",
            "[[0. 1. 0. 1. 0. 1. 0. 1. 0. 1. 0. 1.]\n",
            " [1. 0. 1. 0. 1. 0. 1. 0. 1. 0. 1. 0.]\n",
            " [0. 1. 0. 1. 0. 1. 0. 1. 0. 1. 0. 1.]\n",
            " [1. 0. 1. 0. 1. 0. 1. 0. 1. 0. 1. 0.]\n",
            " [0. 1. 0. 1. 0. 1. 0. 1. 0. 1. 0. 1.]\n",
            " [1. 0. 1. 0. 1. 0. 1. 0. 1. 0. 1. 0.]\n",
            " [0. 1. 0. 1. 0. 1. 0. 1. 0. 1. 0. 1.]\n",
            " [1. 0. 1. 0. 1. 0. 1. 0. 1. 0. 1. 0.]\n",
            " [0. 1. 0. 1. 0. 1. 0. 1. 0. 1. 0. 1.]\n",
            " [1. 0. 1. 0. 1. 0. 1. 0. 1. 0. 1. 0.]\n",
            " [0. 1. 0. 1. 0. 1. 0. 1. 0. 1. 0. 1.]\n",
            " [1. 0. 1. 0. 1. 0. 1. 0. 1. 0. 1. 0.]]\n"
          ]
        }
      ],
      "source": [
        "x = np.zeros((12, 12))\n",
        "print(x, end='\\n\\n')\n",
        "###############\n",
        "# 슬라이싱을 사용하세요\n",
        "x[1::2, ::2] = x[::2, 1::2] = 1\n",
        "\n",
        "###############\n",
        "print(x)"
      ]
    },
    {
      "cell_type": "markdown",
      "id": "8765875e",
      "metadata": {
        "id": "8765875e"
      },
      "source": [
        "### 6. np.tile 을 이용해서 동일한 바둑판 배턴을 만들어보세요"
      ]
    },
    {
      "cell_type": "code",
      "execution_count": 16,
      "id": "fe6834dd",
      "metadata": {
        "id": "fe6834dd",
        "outputId": "17ba5f72-9cad-4947-f788-3a7d66dc8374",
        "colab": {
          "base_uri": "https://localhost:8080/"
        }
      },
      "outputs": [
        {
          "output_type": "stream",
          "name": "stdout",
          "text": [
            "[[0 1 0 1 0 1 0 1 0 1 0 1]\n",
            " [1 0 1 0 1 0 1 0 1 0 1 0]\n",
            " [0 1 0 1 0 1 0 1 0 1 0 1]\n",
            " [1 0 1 0 1 0 1 0 1 0 1 0]\n",
            " [0 1 0 1 0 1 0 1 0 1 0 1]\n",
            " [1 0 1 0 1 0 1 0 1 0 1 0]\n",
            " [0 1 0 1 0 1 0 1 0 1 0 1]\n",
            " [1 0 1 0 1 0 1 0 1 0 1 0]\n",
            " [0 1 0 1 0 1 0 1 0 1 0 1]\n",
            " [1 0 1 0 1 0 1 0 1 0 1 0]\n",
            " [0 1 0 1 0 1 0 1 0 1 0 1]\n",
            " [1 0 1 0 1 0 1 0 1 0 1 0]]\n"
          ]
        }
      ],
      "source": [
        "x = np.tile([[0, 1], [1, 0]], (6, 6))\n",
        "print(x)"
      ]
    },
    {
      "cell_type": "markdown",
      "id": "b1a5847c",
      "metadata": {
        "id": "b1a5847c"
      },
      "source": [
        "### 7. 1차원 배열이 x에서 값이 5~10인 요소를 0으로 바꾸세요"
      ]
    },
    {
      "cell_type": "code",
      "execution_count": 24,
      "id": "bd215833",
      "metadata": {
        "colab": {
          "base_uri": "https://localhost:8080/"
        },
        "id": "bd215833",
        "outputId": "b4ba0c29-7818-4a83-f2e1-7d6101d6ed97"
      },
      "outputs": [
        {
          "output_type": "stream",
          "name": "stdout",
          "text": [
            "[ 2  5  3  8  3 34 23  7 10]\n",
            "[ 2  5  3  8  3 34 23  7 10]\n"
          ]
        }
      ],
      "source": [
        "x = np.array([2, 5, 3, 8, 3, 34, 23, 7, 10])\n",
        "print(x)\n",
        "##################\n",
        "# 필터링을 사용하세요.\n",
        "x = np.where((5 >= x) & (x >=10), 0, x)\n",
        "# np.where(condition, '조건이 참일 때의 값', '조건이 거짓일 때의 값')\n",
        "##################\n",
        "print(x)"
      ]
    },
    {
      "cell_type": "markdown",
      "id": "d5bd1501",
      "metadata": {
        "id": "d5bd1501"
      },
      "source": [
        "### 8. 0에서 100 사이의 값으로 크기가 10인 1차원 array를 만드세요"
      ]
    },
    {
      "cell_type": "code",
      "execution_count": 20,
      "id": "88e38f0e",
      "metadata": {
        "colab": {
          "base_uri": "https://localhost:8080/"
        },
        "id": "88e38f0e",
        "outputId": "20e57b07-35b1-4559-dc8e-b821e2d7ec98"
      },
      "outputs": [
        {
          "output_type": "stream",
          "name": "stdout",
          "text": [
            "[  0.          11.11111111  22.22222222  33.33333333  44.44444444\n",
            "  55.55555556  66.66666667  77.77777778  88.88888889 100.        ]\n"
          ]
        }
      ],
      "source": [
        "x = np.linspace(0, 100, 10)\n",
        "print(x)"
      ]
    },
    {
      "cell_type": "markdown",
      "id": "143e78e1",
      "metadata": {
        "id": "143e78e1"
      },
      "source": [
        "### 9. np.allclose() 함수를 사용하여 2개의 array가 같은지를 확인해보세요"
      ]
    },
    {
      "cell_type": "code",
      "execution_count": 21,
      "id": "56449e50",
      "metadata": {
        "colab": {
          "base_uri": "https://localhost:8080/"
        },
        "id": "56449e50",
        "outputId": "d44886e4-0a1a-4b8c-d042-e55a7deb465c"
      },
      "outputs": [
        {
          "output_type": "stream",
          "name": "stdout",
          "text": [
            "True\n"
          ]
        }
      ],
      "source": [
        "A = np.array([1e10, 1e-8])\n",
        "B = np.array([1.00001e10, 1e-9])\n",
        "# default = numpy.allclose(a, b, rtol = 1e-05, atol = 1e-08, equal_nan = False)\n",
        "equal = np.allclose(A, B)\n",
        "print(equal)"
      ]
    },
    {
      "cell_type": "markdown",
      "id": "26819557",
      "metadata": {
        "id": "26819557"
      },
      "source": [
        "### 10. 데카르트 좌표를 나타내는 랜덤 8 x 2 행렬을 고려하여 극좌표로 변환해보세요."
      ]
    },
    {
      "cell_type": "code",
      "execution_count": 23,
      "id": "4136e249",
      "metadata": {
        "id": "4136e249",
        "outputId": "1650fa9f-65db-4236-8f88-62074338d35b",
        "colab": {
          "base_uri": "https://localhost:8080/"
        }
      },
      "outputs": [
        {
          "output_type": "stream",
          "name": "stdout",
          "text": [
            "[[0.08770822 1.3464563 ]\n",
            " [0.45786343 0.35444546]\n",
            " [0.83740617 0.59012837]\n",
            " [0.31782693 0.62743937]\n",
            " [0.66602243 0.78134202]\n",
            " [0.78995107 0.36962172]\n",
            " [0.08813083 1.45957355]\n",
            " [0.0924497  1.46471365]]\n"
          ]
        }
      ],
      "source": [
        "coord = np.random.random((8, 2))\n",
        "x, y = coord[:, 0], coord[:, 1]\n",
        "r = np.sqrt(x ** 2, y ** 2)\n",
        "theta = np.arctan2(y, x)\n",
        "ploar_coord = np.concatenate([r[:, np.newaxis], theta[:, np.newaxis]], axis=1)\n",
        "print(ploar_coord)"
      ]
    },
    {
      "cell_type": "code",
      "execution_count": null,
      "id": "40708824",
      "metadata": {
        "id": "40708824"
      },
      "outputs": [],
      "source": []
    }
  ],
  "metadata": {
    "kernelspec": {
      "display_name": "Python 3 (ipykernel)",
      "language": "python",
      "name": "python3"
    },
    "language_info": {
      "codemirror_mode": {
        "name": "ipython",
        "version": 3
      },
      "file_extension": ".py",
      "mimetype": "text/x-python",
      "name": "python",
      "nbconvert_exporter": "python",
      "pygments_lexer": "ipython3",
      "version": "3.8.0"
    },
    "colab": {
      "provenance": [],
      "include_colab_link": true
    }
  },
  "nbformat": 4,
  "nbformat_minor": 5
}